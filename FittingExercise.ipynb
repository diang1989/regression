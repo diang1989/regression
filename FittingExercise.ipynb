{
 "cells": [
  {
   "cell_type": "markdown",
   "metadata": {},
   "source": [
    "# Fitting of experimental chemical kinetics data\n",
    "You perform some experiments in a batch reactor to determine the rate expression and thermochemistry for the reversible chemical reaction\n",
    "$\\require{mhchem}$\n",
    "$$\\ce{A <=> B}$$\n",
    "\n",
    "Recall from thermodynamics that \n",
    "$\\Delta G = \\Delta H - T \\Delta S$\n",
    "and $\\Delta G = R T \\ln K_a$\n",
    "where $K_a$ is the activity-based equilibrium constant of the chemical reaction, $R$ is the molar gas constant (8.314 J/mol/K) and $T$ is the temperature in Kelvin.\n",
    "\n",
    "If we assume ideal solution (unit fugacity coefficients) then $K_a = K_c$ giving us the concentration-based equilibrium constant $K_c$. \n",
    "From kinetics you recall\n",
    "$K_c = \\frac{k_f}{k_r}$ \n",
    "where \n",
    "$k_f$ is the forward rate coefficient and $k_r$ is the reverse rate coefficient.\n",
    "i.e. the rate of the reaction $\\ce{A->B}$ is $k_f \\times C_A$\n",
    "and the reverse reaction $\\ce{B->A}$ is $k_r \\times C_B$\n",
    "where $C_A$ and $C_B$ are the concentrations of species A and B respectively. \n",
    "In a batch reactor $\\frac{dN_A}{dt} = r_{A(net)} V$, so (dividing through by the reactor volume $V$) $\\frac{dC_A}{dt} = r_{A(net)}$ where $r_{A(net)}$ is the net rate of formation of species A, i.e. $r_{A(net)} = k_r C_B - k_f C_A$.\n",
    "Assume the forward rate coefficient $k_f$ follows Arrhenius form, $k_f = A \\exp\\left(\\frac{-E_A}{R T}\\right)$ where $A$ is the \"pre-exponential factor\" and $E_A$ is the activation energy.\n",
    "\n",
    "Fortunately, in this case you have good reason to believe that species A and B have very similar temperature-dependent heat capacities, so that $\\Delta H_{rxn}$ and $\\Delta S_{rxn}$ are independent of temperature.\n",
    "\n",
    "You start the experiment with no B ($C_B=0$), and at time zero have some way to initiate the reaction, starting with a set concentration of $C_A$. \n",
    "\n",
    "You wish to determine the four paramaters:\n",
    "$log_{10} A$,\n",
    "$E_A$,\n",
    "$\\Delta H_{rxn}$,\n",
    "$\\Delta S_{rxn}$.\n",
    "\n",
    "Based on a literature search, quantum chemistry calculations, and prior experience, your current estimates are as follows:\n",
    "```\n",
    "logA = 6.  # base-ten logarithm of A in s^-1\n",
    "Ea = 45.   # Ea in kJ/mol\n",
    "dH = -10.  # ∆H in kJ/mol\n",
    "dS = -50.  # ∆S in J/mol/K\n",
    "```\n"
   ]
  },
  {
   "cell_type": "code",
   "execution_count": 32,
   "metadata": {
    "collapsed": false
   },
   "outputs": [
    {
     "ename": "ImportError",
     "evalue": "No module named 'SALib'",
     "output_type": "error",
     "traceback": [
      "\u001b[0;31m---------------------------------------------------------------------------\u001b[0m",
      "\u001b[0;31mImportError\u001b[0m                               Traceback (most recent call last)",
      "\u001b[0;32m<ipython-input-32-f4b377609d40>\u001b[0m in \u001b[0;36m<module>\u001b[0;34m()\u001b[0m\n\u001b[1;32m      5\u001b[0m \u001b[0;34m\u001b[0m\u001b[0m\n\u001b[1;32m      6\u001b[0m \u001b[0;32mimport\u001b[0m \u001b[0mrandom\u001b[0m\u001b[0;34m\u001b[0m\u001b[0m\n\u001b[0;32m----> 7\u001b[0;31m \u001b[0;32mimport\u001b[0m \u001b[0mSALib\u001b[0m \u001b[0;32mas\u001b[0m \u001b[0msa\u001b[0m\u001b[0;34m\u001b[0m\u001b[0m\n\u001b[0m\u001b[1;32m      8\u001b[0m \u001b[0;32mimport\u001b[0m \u001b[0mSALib\u001b[0m\u001b[0;34m.\u001b[0m\u001b[0msample\u001b[0m\u001b[0;34m\u001b[0m\u001b[0m\n\u001b[1;32m      9\u001b[0m \u001b[0;31m# from SALib.sample import morris as ms\u001b[0m\u001b[0;34m\u001b[0m\u001b[0;34m\u001b[0m\u001b[0m\n",
      "\u001b[0;31mImportError\u001b[0m: No module named 'SALib'"
     ]
    }
   ],
   "source": [
    "%matplotlib inline\n",
    "import numpy as np\n",
    "import scipy.integrate\n",
    "from matplotlib import pyplot as plt\n",
    "\n",
    "import random\n",
    "import SALib as sa\n",
    "import SALib.sample\n",
    "# from SALib.sample import morris as ms\n",
    "# from SALib.analyze import morris as ma\n",
    "# from SALib.plotting import morris as mp\n"
   ]
  },
  {
   "cell_type": "code",
   "execution_count": 33,
   "metadata": {
    "collapsed": false
   },
   "outputs": [
    {
     "name": "stdout",
     "output_type": "stream",
     "text": [
      "If you want to try different figure formatting, type 'conda install seaborn' at an anaconda command prompt or terminal. See https://stanford.edu/~mwaskom/software/seaborn/ for details\n"
     ]
    }
   ],
   "source": [
    "# This cell just tries to make graphs look nicer\n",
    "try:\n",
    "    import seaborn as sns\n",
    "except ImportError:\n",
    "    # This block will be run if there's an ImportError, i.e you don't have seaborn installed.\n",
    "    sns = False\n",
    "    print (\"If you want to try different figure formatting, \"\n",
    "           \"type 'conda install seaborn' at an anaconda command prompt or terminal. \"\n",
    "           \"See https://stanford.edu/~mwaskom/software/seaborn/ for details\")\n",
    "    # If not using seaborn, we can still control the size of the figures this way\n",
    "    from pylab import rcParams\n",
    "    rcParams['figure.figsize'] = 3, 3\n",
    "else:\n",
    "    # This block will be run if there is no ImportError\n",
    "    sns.set_style(\"ticks\")\n",
    "    sns.set_context(\"paper\",rc={\"figure.figsize\": (2, 2)})"
   ]
  },
  {
   "cell_type": "markdown",
   "metadata": {},
   "source": [
    "We create a \"named tuple\" data type to store the exprimental data in."
   ]
  },
  {
   "cell_type": "code",
   "execution_count": 34,
   "metadata": {
    "collapsed": false
   },
   "outputs": [],
   "source": [
    "from collections import namedtuple\n",
    "ExperimentData = namedtuple('ExperimentData', ['T', 'cA_start', 'times', 'cA'])\n",
    "\n",
    "def plot_experiment(e):\n",
    "    \"\"\"\n",
    "    Plots the experimental data provided in 'e' \n",
    "    which should be of the type ExperimentData.\n",
    "    \"\"\"\n",
    "    plt.plot(0, e.cA_start, 'ko')\n",
    "    plt.plot(e.times, e.cA,':o', label=\"T={:.0f}K\".format(e.T))\n",
    "    plt.ylim(0,)\n",
    "    plt.ylabel('$C_A$ (mol/L)')\n",
    "    plt.xlabel('time (s)')\n",
    "    plt.legend()"
   ]
  },
  {
   "cell_type": "markdown",
   "metadata": {},
   "source": [
    "Now here are the data from your three experiments:"
   ]
  },
  {
   "cell_type": "code",
   "execution_count": 35,
   "metadata": {
    "collapsed": false
   },
   "outputs": [
    {
     "name": "stdout",
     "output_type": "stream",
     "text": [
      "Experiment 0 was at T=298.15K and ran for 100 seconds\n",
      "Experiment 1 was at T=308.15K and ran for 100 seconds\n",
      "Experiment 2 was at T=323.15K and ran for 100 seconds\n"
     ]
    },
    {
     "data": {
      "image/png": "[encoded data removed]",
      "text/plain": [
       "<matplotlib.figure.Figure at 0x10e157518>"
      ]
     },
     "metadata": {},
     "output_type": "display_data"
    }
   ],
   "source": [
    "from numpy import array\n",
    "experiments = [ExperimentData(T=298.15, \n",
    "                              cA_start=10.0, \n",
    "                              times=array([ 10,  20,  30,  40,  50,  60,  70,  80,  90, 100]), \n",
    "                              cA=array([ 8.649,  7.441,  7.141,  6.366,  6.215, 5.990, 5.852,  5.615,  5.481 ,  5.644])), \n",
    "               ExperimentData(T=308.15, \n",
    "                              cA_start=10.0, \n",
    "                              times=array([ 10,  20,  30,  40,  50,  60,  70,  80,  90, 100]), \n",
    "                              cA=array([ 7.230,  6.073,  5.452,  5.317,  5.121, 4.998,  4.951,  4.978,  5.015,  5.036])), \n",
    "               ExperimentData(T=323.15, \n",
    "                              cA_start=10.0, \n",
    "                              times=array([ 10,  20,  30,  40,  50,  60,  70,  80,  90, 100]), \n",
    "                              cA=array([ 5.137,  4.568,  4.548,  4.461,  4.382, 4.525,  4.483,  4.565,  4.459,  4.635])),\n",
    "              ]\n",
    "\n",
    "for i,e in enumerate(experiments):\n",
    "    print(\"Experiment {} was at T={}K and ran for {} seconds\".format(i, e.T, e.times[-1]))\n",
    "    plot_experiment(e)"
   ]
  },
  {
   "cell_type": "code",
   "execution_count": 140,
   "metadata": {
    "collapsed": false
   },
   "outputs": [
    {
     "name": "stdout",
     "output_type": "stream",
     "text": [
      "At temperature of 298.15, the fitted parameters are: logA: 6.531836170971809 /s, Ea: 47411.24741318953 J/mol, dH: -3926.652750414494 J/mol, dS: -11.693256470602536 J/mol/K\n",
      "\n",
      "\n",
      "At temperature of 308.15, the fitted parameters are: logA: 7.561936325150584 /s, Ea: 52903.332212834954 J/mol, dH: -7890.725019289656 J/mol, dS: -25.60897127736341 J/mol/K\n",
      "\n",
      "\n",
      "At temperature of 323.15, the fitted parameters are: logA: 6.197272224030573 /s, Ea: 44058.26046679093 J/mol, dH: -13342.697077271769 J/mol, dS: -42.94094648765386 J/mol/K\n",
      "\n",
      "\n",
      "The mean value of each thermal parameters at each temperature is fitted as: logA: 6.763681573384322 /s, Ea: 48124.28003093847 J/mol, dH: -8386.69161565864 J/mol, dH: -26.7477247452066 J/mol/K\n"
     ]
    },
    {
     "data": {
      "image/png": "[encoded data removed]",
      "text/plain": [
       "<matplotlib.figure.Figure at 0x10d0341d0>"
      ]
     },
     "metadata": {},
     "output_type": "display_data"
    }
   ],
   "source": [
    "ParameterSet = namedtuple('ParameterSet', ['logA', 'Ea', 'dH', 'dS'])\n",
    "\n",
    "# This is a sensible starting guess for your fitting\n",
    "starting_guess = ParameterSet(\n",
    "    logA = 6. , # base-ten logarithm of A in s^-1\n",
    "    Ea = 45000. , # Ea in J/mol\n",
    "    dH = -2000. , # ∆H in J/mol\n",
    "    dS = -50.  # ∆S in J/mol/K\n",
    "    )\n",
    "\n",
    "\n",
    "# My homework begins here\n",
    "# I changed the starting guess a little bit, dH changed from -10000 to -2000\n",
    "\n",
    "# Create a new array for estimated parameters\n",
    "logA_file = np.zeros(3)\n",
    "Ea_file = np.zeros(3)\n",
    "dH_file = np.zeros(3)\n",
    "dS_file = np.zeros(3)\n",
    "\n",
    "# Start fitting from here\n",
    "for i in range (3):\n",
    "    # setup the value of parameters\n",
    "    C_A_0 = 10\n",
    "    R = 8.314\n",
    "\n",
    "    # Temperatures as an array\n",
    "    T = [298.15, 308.15, 323.15]\n",
    "\n",
    "    # Define a function of concentration of species A\n",
    "    def function (X, logA, Ea, dH, dS):\n",
    "        # Solve the thermal constants used in the equation\n",
    "        t = X\n",
    "        Ka = np.exp((dH - T [i] *dS) / (R* T [i]))\n",
    "        k_f = 10**(logA) * np.exp(-Ea / ( R * T [i] ))\n",
    "        k_r = k_f / Ka\n",
    "        alpha = k_r + k_f\n",
    "        # Through the integration of concentration of species A diferential equation, gives:    \n",
    "        C_A = k_r * C_A_0 / alpha + (10 - 10 * k_r / alpha) * np.exp(-alpha * t) \n",
    "        return (C_A)\n",
    "   \n",
    "    X = np.array (experiments[i][2])\n",
    "    Y = np.array (experiments[i][3])\n",
    "    optimal_parameters, covariance  = scipy.optimize.curve_fit(function, X, Y, starting_guess)\n",
    "    \n",
    "    # Set values in parameter arrays\n",
    "    logA_file [i] = optimal_parameters[0]\n",
    "    Ea_file [i] = optimal_parameters[1]\n",
    "    dH_file [i] = optimal_parameters[2]\n",
    "    dS_file [i] = optimal_parameters[3]\n",
    "    \n",
    "    # Calculate the theoretical the concentration of species A    \n",
    "    Ka = np.exp((dH - T [i]*dS) / (R* T[i]))\n",
    "    k_f = 10**(logA) * np.exp(-Ea / ( R * T[i] ))\n",
    "    k_r = k_f / Ka\n",
    "    alpha = k_r + k_f\n",
    "    t = X\n",
    "    C_A = k_r * C_A_0 / alpha + (C_A_0 - C_A_0 * k_r / alpha) * np.exp(-alpha * t)\n",
    "    plt.plot(experiments[i][2], experiments[i][3], 'o')\n",
    "    plt.plot(X, C_A)\n",
    "    print(\"At temperature of {}, the fitted parameters are: logA: {} /s, Ea: {} J/mol, dH: {} J/mol, dS: {} J/mol/K\". format(T[i],optimal_parameters[0], optimal_parameters[1], optimal_parameters[2], optimal_parameters[3] ))\n",
    "    print('\\n')\n",
    "#Calculate the mean of each parameter\n",
    "logA_mean = (logA_file[0] + logA_file[1] + logA_file[2])/3\n",
    "Ea_mean = (Ea_file[0] + Ea_file[1] + Ea_file[2])/3    \n",
    "dH_mean = (dH_file[0] + dH_file[1] + dH_file[2])/3   \n",
    "dS_mean = (dS_file[0] + dS_file[1] + dS_file[2])/3\n",
    "print(\"The mean value of each thermal parameters at each temperature is fitted as: logA: {} /s, Ea: {} J/mol, dH: {} J/mol, dH: {} J/mol/K\". format(logA_mean, Ea_mean, dH_mean, dS_mean) )\n",
    "\n",
    "\n",
    "# Calculate the standard error\n",
    "# 1. calculated the standard deviation\n",
    "logA_std = np.std(logA_file)\n",
    "Ea_std = np.std(Ea_file)\n",
    "dH_std = np.std(dH_file)\n",
    "dS_std = np.std(dS_file)\n",
    "# 2. Calculated the standard error by deviding std sample number, in this case, sample number is equal to 3.\n",
    "logA_std_err = logA_std/3\n",
    "Ea_std_err = Ea_std/3\n",
    "dH_std_err = dH_std/3\n",
    "dS_std_err = dS_std/3\n",
    "\n",
    "\n",
    "# This should end up with your optimized parameters\n",
    "#optimized_parameters = ParameterSet(0,0,0,0)\n",
    "\n",
    "\n",
    "# This should end up with your standard errors (one sigma)\n",
    "# for the uncertainties in the fitted parameters.\n",
    "# i.e. there should be a 68% chance the true value is \n",
    "# at least this close to your optimized parameter.\n",
    "#standard_errors = ParameterSet(0,0,0,0)\n"
   ]
  },
  {
   "cell_type": "markdown",
   "metadata": {},
   "source": [
    "Ok, now insert some cells to determine the optimized_parameters and their standard_errors."
   ]
  },
  {
   "cell_type": "code",
   "execution_count": 137,
   "metadata": {
    "collapsed": false
   },
   "outputs": [
    {
     "name": "stdout",
     "output_type": "stream",
     "text": [
      "ParameterSet(logA=6.0, Ea=45000.0, dH=-2000.0, dS=-50.0)\n",
      "optimized_parameters (logA = 6.76, Ea = 48124.28, dH = -8386.69, dS = -26.75)\n",
      "standard_error (logA = 0.19, Ea = 1215.34, dH = 1286.68, dS = 4.26)\n"
     ]
    }
   ],
   "source": [
    "# Finish your notebook with this cell\n",
    "print(starting_guess)\n",
    "print(\"optimized_parameters (logA = {}, Ea = {}, dH = {}, dS = {})\". format(np.round(logA_mean,2), np.round(Ea_mean,2), np.round(dH_mean,2), np.round(dS_mean,2)))\n",
    "print(\"standard_error (logA = {}, Ea = {}, dH = {}, dS = {})\". format(np.round(logA_std_err,2), np.round(Ea_std_err,2), np.round(dH_std_err,2), np.round(dS_std_err,2)))"
   ]
  },
  {
   "cell_type": "code",
   "execution_count": null,
   "metadata": {
    "collapsed": true
   },
   "outputs": [],
   "source": []
  },
  {
   "cell_type": "code",
   "execution_count": null,
   "metadata": {
    "collapsed": true
   },
   "outputs": [],
   "source": []
  }
 ],
 "metadata": {
  "anaconda-cloud": {},
  "kernelspec": {
   "display_name": "Python [Root]",
   "language": "python",
   "name": "Python [Root]"
  },
  "language_info": {
   "codemirror_mode": {
    "name": "ipython",
    "version": 3
   },
   "file_extension": ".py",
   "mimetype": "text/x-python",
   "name": "python",
   "nbconvert_exporter": "python",
   "pygments_lexer": "ipython3",
   "version": "3.5.2"
  }
 },
 "nbformat": 4,
 "nbformat_minor": 1
}
